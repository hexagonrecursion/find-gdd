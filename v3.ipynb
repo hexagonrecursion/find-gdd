{
 "cells": [
  {
   "cell_type": "code",
   "execution_count": 1,
   "metadata": {},
   "outputs": [],
   "source": [
    "import csv\n",
    "from ipyleaflet import Map, LayerGroup, CircleMarker"
   ]
  },
  {
   "cell_type": "code",
   "execution_count": 2,
   "metadata": {},
   "outputs": [
    {
     "data": {
      "application/vnd.jupyter.widget-view+json": {
       "model_id": "fa7d834a690b45e0bc404435fae559a4",
       "version_major": 2,
       "version_minor": 0
      },
      "text/plain": [
       "Map(center=[0.0, 0.0], controls=(ZoomControl(options=['position', 'zoom_in_text', 'zoom_in_title', 'zoom_out_t…"
      ]
     },
     "metadata": {},
     "output_type": "display_data"
    }
   ],
   "source": [
    "m = Map(zoom=0)\n",
    "m"
   ]
  },
  {
   "cell_type": "markdown",
   "metadata": {},
   "source": [
    "## Read the GDD grid"
   ]
  },
  {
   "cell_type": "code",
   "execution_count": 3,
   "metadata": {},
   "outputs": [],
   "source": [
    "with open('grid.csv') as f:\n",
    "    grid = list(csv.reader(f))\n",
    "assert grid[0] == ['Latitude', 'Longitude', '1_year average']\n",
    "grid = grid[1:]\n",
    "\n",
    "def fix_coord(lat, lon):\n",
    "    if lon <= 180:\n",
    "        return lat, lon\n",
    "    # Some of the points for America are shifted by 360 degrees west\n",
    "    # This fixes them\n",
    "    return lat, lon - 360\n",
    "grid = [fix_coord(float(lat), float(lon)) + (gdd,) for lat, lon, gdd in grid[:]]\n",
    "\n",
    "grid = {r[:2]: r for r in grid}"
   ]
  },
  {
   "cell_type": "markdown",
   "metadata": {},
   "source": [
    "## Read the range defenitions"
   ]
  },
  {
   "cell_type": "code",
   "execution_count": 4,
   "metadata": {},
   "outputs": [],
   "source": [
    "def read_points(file):\n",
    "    with open(file) as f:\n",
    "        points = list(csv.reader(f))\n",
    "    assert points[0] == ['Latitude', 'Longitude']\n",
    "    return [(float(r[0]), float(r[1])) for r in points[1:]]\n",
    "    \n",
    "america = read_points('america.csv')\n",
    "china = read_points('china.csv')\n",
    "europe = read_points('europe.csv')"
   ]
  },
  {
   "cell_type": "markdown",
   "metadata": {},
   "source": [
    "## Draw EAB range on the map"
   ]
  },
  {
   "cell_type": "code",
   "execution_count": 5,
   "metadata": {},
   "outputs": [],
   "source": [
    "def points_to_layer(points, color):    \n",
    "    g = LayerGroup()\n",
    "    for l in points:\n",
    "        g.add_layer(CircleMarker(location=l, color=color, radius=3))\n",
    "    return g\n",
    "\n",
    "layer_america = points_to_layer(america, 'red')\n",
    "layer_china = points_to_layer(china, 'red')\n",
    "layer_europe = points_to_layer(europe, 'red')\n",
    "\n",
    "m += layer_america\n",
    "m += layer_china\n",
    "m += layer_europe"
   ]
  },
  {
   "cell_type": "markdown",
   "metadata": {},
   "source": [
    "## Find nearest grid points"
   ]
  },
  {
   "cell_type": "code",
   "execution_count": 6,
   "metadata": {},
   "outputs": [],
   "source": [
    "def snap_to_grid(coord, latoff, lonoff):\n",
    "    lat, lon = coord\n",
    "    lat = round((lat - latoff) / 0.75) * 0.75 + latoff\n",
    "    lon = round((lon - lonoff) / 0.75) * 0.75 + lonoff\n",
    "    return lat, lon\n",
    "\n",
    "europe_result = [c + grid[snap_to_grid(c, 0, 0)] for c in europe]\n",
    "china_result = [c + grid[snap_to_grid(c, -0.25, -0.5)] for c in china]\n",
    "\n",
    "# GDD for America is provided as two grids with different offsets. Try both\n",
    "def find_in_america(coord):\n",
    "    result = grid.get(snap_to_grid(coord, 0, 0))\n",
    "    if result is not None:\n",
    "        return result\n",
    "    result = grid.get(snap_to_grid(coord, 0.5, 0.5))\n",
    "    assert result is not None\n",
    "    return result\n",
    "\n",
    "america_result = [c + find_in_america(c) for c in america]"
   ]
  },
  {
   "cell_type": "markdown",
   "metadata": {},
   "source": [
    "## Draw nearest grid points on the map"
   ]
  },
  {
   "cell_type": "code",
   "execution_count": 7,
   "metadata": {},
   "outputs": [],
   "source": [
    "layer_america_result = points_to_layer((r[2:4] for r in america_result), 'blue')\n",
    "layer_china_result = points_to_layer((r[2:4] for r in china_result), 'blue')\n",
    "layer_europe_result = points_to_layer((r[2:4] for r in europe_result), 'blue')\n",
    "\n",
    "m += layer_america_result\n",
    "m += layer_china_result\n",
    "m += layer_europe_result"
   ]
  },
  {
   "cell_type": "markdown",
   "metadata": {},
   "source": [
    "## Save the result"
   ]
  },
  {
   "cell_type": "code",
   "execution_count": 8,
   "metadata": {},
   "outputs": [],
   "source": [
    "def dump(name, data):\n",
    "    with open(name, 'w') as f:\n",
    "        w = csv.writer(f)\n",
    "        w.writerow('lat long gridlat gridlong gdd'.split())\n",
    "        w.writerows(data)\n",
    "\n",
    "dump('america_result.csv', america_result)\n",
    "dump('china_result.csv', china_result)\n",
    "dump('europe_result.csv', europe_result)"
   ]
  }
 ],
 "metadata": {
  "kernelspec": {
   "display_name": "Python 3",
   "language": "python",
   "name": "python3"
  },
  "language_info": {
   "codemirror_mode": {
    "name": "ipython",
    "version": 3
   },
   "file_extension": ".py",
   "mimetype": "text/x-python",
   "name": "python",
   "nbconvert_exporter": "python",
   "pygments_lexer": "ipython3",
   "version": "3.8.1"
  }
 },
 "nbformat": 4,
 "nbformat_minor": 4
}
